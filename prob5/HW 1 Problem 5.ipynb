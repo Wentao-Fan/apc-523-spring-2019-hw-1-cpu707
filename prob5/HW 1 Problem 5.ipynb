{
 "cells": [
  {
   "cell_type": "code",
   "execution_count": 1,
   "metadata": {},
   "outputs": [
    {
     "name": "stdout",
     "output_type": "stream",
     "text": [
      "1 2.0\n",
      "10 2.5937424601\n",
      "100 2.704813829422\n",
      "1000 2.716923932236\n",
      "10000 2.718145926825\n",
      "100000 2.718268237192\n",
      "1000000 2.718280469096\n",
      "10000000 2.718281694132\n",
      "100000000 2.718281798347\n",
      "1000000000 2.718282052012\n",
      "10000000000 2.718282053235\n",
      "100000000000 2.718282053357\n",
      "1000000000000 2.718523496037\n",
      "10000000000000 2.716110034087\n",
      "100000000000000 2.716110034087\n",
      "final values:\n",
      "n = 10000000000000\n",
      "total = 2.716110034087\n",
      "The code converges to 2.716110034087 instead of 2.71828183 because it eventually looses too many bits to be accurate.\n"
     ]
    }
   ],
   "source": [
    "import numpy as np\n",
    "import pandas\n",
    "import math\n",
    "import seaborn as sns\n",
    "\n",
    "\n",
    "np.set_printoptions(threshold=np.nan)\n",
    "\n",
    "total = []\n",
    "total.append(float(2))\n",
    "total.append(float(1.1**10.0))\n",
    "n_list = []\n",
    "n_list.append(1)\n",
    "n_list.append(10)\n",
    "n = 100\n",
    "i = 1\n",
    "\n",
    "# print('n = 1')\n",
    "# print('total = %.12f' % float(total[0]))\n",
    "# print('n = 10')\n",
    "# print('total = %.12f' % float(total[1]))\n",
    "\n",
    "\n",
    "while abs(total[i] - total[i-1]) > 0.000000000001:\n",
    "    total.append(float((1+1/n)**n))\n",
    "    n_list.append(n)\n",
    "#     print('n = %d' % n)\n",
    "#     print('total = %.12f' % total[i+1])\n",
    "    i = i+1\n",
    "    n = n*10\n",
    "\n",
    "\n",
    "\n",
    "vals = [round(i, 12) for i in total]\n",
    "\n",
    "for n, val in zip(n_list, vals):\n",
    "    print(n, val)\n",
    "\n",
    "\n",
    "\n",
    "n = n/10\n",
    "print('final values:')\n",
    "print('n = %d' % n)\n",
    "print('total = %.12f' % total[i])\n",
    "\n",
    "print('The code converges to 2.716110034087 instead of 2.71828183 because it eventually looses too many bits to be accurate.')\n"
   ]
  },
  {
   "cell_type": "code",
   "execution_count": null,
   "metadata": {},
   "outputs": [],
   "source": []
  }
 ],
 "metadata": {
  "kernelspec": {
   "display_name": "Python 3",
   "language": "python",
   "name": "python3"
  },
  "language_info": {
   "codemirror_mode": {
    "name": "ipython",
    "version": 3
   },
   "file_extension": ".py",
   "mimetype": "text/x-python",
   "name": "python",
   "nbconvert_exporter": "python",
   "pygments_lexer": "ipython3",
   "version": "3.7.2"
  }
 },
 "nbformat": 4,
 "nbformat_minor": 2
}
