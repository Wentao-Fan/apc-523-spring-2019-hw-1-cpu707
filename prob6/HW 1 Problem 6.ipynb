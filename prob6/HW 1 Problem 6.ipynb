{
 "cells": [
  {
   "cell_type": "code",
   "execution_count": 4,
   "metadata": {},
   "outputs": [
    {
     "name": "stdout",
     "output_type": "stream",
     "text": [
      "52 Loops: Accurate Values\n",
      "1.0\n",
      "2.718281808182473\n",
      "7.389055988695776\n",
      "53 Loops: Accurate Values\n",
      "1.0\n",
      "7.389055988695776\n",
      "51 Loops: Accurate Values\n",
      "1.0\n",
      "2.718281808182473\n",
      "4.481689053641878\n",
      "7.389055988695776\n"
     ]
    },
    {
     "data": {
      "image/png": "[encoded data removed]",
      "text/plain": [
       "<Figure size 432x288 with 1 Axes>"
      ]
     },
     "metadata": {
      "needs_background": "light"
     },
     "output_type": "display_data"
    },
    {
     "name": "stdout",
     "output_type": "stream",
     "text": [
      "The values that remain accurate are all powers of e. For 51 loops, e^even number is accurate, for 52 loops, e^n is accurate, and for 53 loops, e^n/2 is accurate. I am not sure why e remains accurate when other values do not.\n"
     ]
    }
   ],
   "source": [
    "import numpy as np\n",
    "import matplotlib.pyplot as plt\n",
    "from matplotlib import colors\n",
    "import math\n",
    "import seaborn as sns\n",
    "\n",
    "np.set_printoptions(threshold=np.nan)\n",
    "\n",
    "N=1001 # number of floats\n",
    "original_array = np.zeros(N)\n",
    "array = np.zeros(N) #Creating array of N zeros\n",
    "new_array = array\n",
    "start = float(1.0) #Starting value of array\n",
    "dt = float(0.009) #time step\n",
    "loops = 52 #number of loops for square rooting and squaring\n",
    "\n",
    "#generate initial array\n",
    "for i in range (0, N):\n",
    "    array[i] = start + i*dt\n",
    "    original_array[i] = start + i*dt\n",
    "\n",
    "for i in range(0, loops):\n",
    "    array[:] = [np.sqrt(x) for x in array]\n",
    "        \n",
    "\n",
    "for i in range(0, loops):\n",
    "    array[:] = [x**2 for x in array]\n",
    "\n",
    "print('52 Loops: Accurate Values')    \n",
    "    \n",
    "for i in range(0, N):\n",
    "    if abs(new_array[i] - original_array[i]) < 0.005:\n",
    "        print(new_array[i])\n",
    "    \n",
    "    \n",
    "array2 = np.zeros(N) #Creating array of N zeros\n",
    "new_array2 = array2\n",
    "start = float(1.0) #Starting value of array\n",
    "dt = float(0.009) #time step\n",
    "loops2 = 53 #number of loops for square rooting and squaring\n",
    "\n",
    "#generate initial array\n",
    "for i in range (0, N):\n",
    "    array2[i] = start + i*dt\n",
    "\n",
    "for i in range(0, loops2):\n",
    "    array2[:] = [np.sqrt(x) for x in array2]\n",
    "        \n",
    "\n",
    "for i in range(0, loops2):\n",
    "    array2[:] = [x**2 for x in array2]\n",
    "\n",
    "print('53 Loops: Accurate Values')    \n",
    "    \n",
    "for i in range(0, N):\n",
    "    if abs(new_array2[i] - original_array[i]) < 0.005:\n",
    "        print(new_array2[i])   \n",
    "    \n",
    "array3 = np.zeros(N) #Creating array of N zeros\n",
    "new_array3 = array3\n",
    "start = float(1.0) #Starting value of array\n",
    "dt = float(0.009) #time step\n",
    "loops3 = 51 #number of loops for square rooting and squaring\n",
    "\n",
    "#generate initial array\n",
    "for i in range (0, N):\n",
    "    array3[i] = start + i*dt\n",
    "\n",
    "for i in range(0, loops3):\n",
    "    array3[:] = [np.sqrt(x) for x in array3]\n",
    "        \n",
    "\n",
    "for i in range(0, loops3):\n",
    "    array3[:] = [x**2 for x in array3]\n",
    "        \n",
    "print('51 Loops: Accurate Values')    \n",
    "    \n",
    "for i in range(0, N):\n",
    "    if abs(new_array3[i] - original_array[i]) < 0.005:\n",
    "        print(new_array3[i])    \n",
    "        \n",
    "# plotting the points  \n",
    "plt.plot(original_array, new_array, color = 'blue')\n",
    "plt.plot(original_array, new_array2, color = 'green')\n",
    "plt.plot(original_array, new_array3, color = 'orange')\n",
    "plt.plot(original_array, original_array, color = 'red', linestyle = 'dashed')\n",
    "plt.legend(['52 Loops', '53 Loops', '51 Loops', 'Actual Values'])\n",
    "\n",
    "# naming the x axis \n",
    "plt.xlabel('Actual Values') \n",
    "# naming the y axis \n",
    "plt.ylabel('Calculated Values') \n",
    "  \n",
    "# giving a title to my graph \n",
    "plt.title('Square Root Fun', y = 1.08) \n",
    "  \n",
    "# function to show the plot \n",
    "plt.show()\n",
    "plt.close()\n",
    "\n",
    "print(\"The values that remain accurate are all powers of e. For 51 loops, e^even number is accurate, for 52 loops, e^n is accurate, and for 53 loops, e^n/2 is accurate. I am not sure why e remains accurate when other values do not.\")\n"
   ]
  },
  {
   "cell_type": "code",
   "execution_count": null,
   "metadata": {},
   "outputs": [],
   "source": []
  }
 ],
 "metadata": {
  "kernelspec": {
   "display_name": "Python 3",
   "language": "python",
   "name": "python3"
  },
  "language_info": {
   "codemirror_mode": {
    "name": "ipython",
    "version": 3
   },
   "file_extension": ".py",
   "mimetype": "text/x-python",
   "name": "python",
   "nbconvert_exporter": "python",
   "pygments_lexer": "ipython3",
   "version": "3.7.2"
  }
 },
 "nbformat": 4,
 "nbformat_minor": 2
}
