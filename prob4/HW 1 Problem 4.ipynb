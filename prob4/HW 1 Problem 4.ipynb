{
 "cells": [
  {
   "cell_type": "code",
   "execution_count": 10,
   "metadata": {},
   "outputs": [
    {
     "data": {
      "image/png": "[encoded data removed]",
      "text/plain": [
       "<Figure size 432x288 with 1 Axes>"
      ]
     },
     "metadata": {
      "needs_background": "light"
     },
     "output_type": "display_data"
    },
    {
     "name": "stdout",
     "output_type": "stream",
     "text": [
      "It is less than 1 everywhere on [0,1]\n"
     ]
    }
   ],
   "source": [
    "import numpy as np\n",
    "import matplotlib.pyplot as plt\n",
    "from matplotlib import colors\n",
    "import math\n",
    "import seaborn as sns\n",
    "\n",
    "np.set_printoptions(threshold=np.nan)\n",
    "\n",
    "dt = 0.000001\n",
    "N = 1/dt - 1\n",
    "array = np.zeros(int(N))\n",
    "new_array = array\n",
    "x = 0.000001\n",
    "x_values = np.zeros(int(N))\n",
    "i = 0\n",
    "\n",
    "\n",
    "while x < 1:\n",
    "    array[i] = x * math.exp(-x) / (1 - math.exp(-x))\n",
    "    x_values[i] = x\n",
    "    x = x + dt\n",
    "    i = i +1\n",
    "    \n",
    "    \n",
    "     \n",
    "        \n",
    "# plotting the points  \n",
    "plt.plot(x_values, new_array, color = 'blue')\n",
    "plt.legend(['1-e^-x'])\n",
    "\n",
    "# naming the x axis \n",
    "plt.xlabel('X value') \n",
    "# naming the y axis \n",
    "plt.ylabel('Function value') \n",
    "  \n",
    "# giving a title to my graph \n",
    "plt.title('4(a)', y = 1.08) \n",
    "  \n",
    "# function to show the plot \n",
    "plt.show()\n",
    "plt.close()\n",
    "\n",
    "print('It is less than 1 everywhere on [0,1]')\n",
    "\n"
   ]
  },
  {
   "cell_type": "code",
   "execution_count": 36,
   "metadata": {},
   "outputs": [
    {
     "name": "stdout",
     "output_type": "stream",
     "text": [
      "x = 0.064500\n",
      "16.536830670459473\n",
      "Minimum value (at x = 1):\n",
      "2.718281828459045\n"
     ]
    },
    {
     "data": {
      "image/png": "[encoded data removed]",
      "text/plain": [
       "<Figure size 432x288 with 1 Axes>"
      ]
     },
     "metadata": {
      "needs_background": "light"
     },
     "output_type": "display_data"
    },
    {
     "name": "stdout",
     "output_type": "stream",
     "text": [
      "All values are greater than 1\n"
     ]
    }
   ],
   "source": [
    "import numpy as np\n",
    "import matplotlib.pyplot as plt\n",
    "from matplotlib import colors\n",
    "import math\n",
    "import seaborn as sns\n",
    "\n",
    "dt = 0.0001\n",
    "N = 1/dt - 1\n",
    "array = np.zeros(int(N+1))\n",
    "x = 0.0001\n",
    "x_values = np.zeros(int(N+1))\n",
    "i = 0\n",
    "\n",
    "\n",
    "while x < 1.0:\n",
    "\n",
    "    array[i] = math.exp(x) / x\n",
    "    x_values[i] = x\n",
    "    if abs(x - 0.0645) < 0.00001:\n",
    "        print(\"x = %f\" %x)\n",
    "        print(array[i])\n",
    "    x = x + dt\n",
    "    i = i +1\n",
    "    \n",
    "print('Minimum value (at x = 1):')   \n",
    "print(array[i-1])   \n",
    "\n",
    "\n",
    "        \n",
    "# plotting the points  \n",
    "plt.plot(x_values, array, color = 'blue')\n",
    "plt.legend(['(2-e^x)/x'])\n",
    "\n",
    "# naming the x axis \n",
    "plt.xlabel('X value') \n",
    "# naming the y axis \n",
    "plt.ylabel('Function value') \n",
    "  \n",
    "# giving a title to my graph \n",
    "plt.title('4(b)', y = 1.08) \n",
    "  \n",
    "# function to show the plot \n",
    "plt.show()\n",
    "plt.close()\n",
    "\n",
    "print('All values are greater than 1')\n"
   ]
  },
  {
   "cell_type": "code",
   "execution_count": null,
   "metadata": {},
   "outputs": [],
   "source": [
    "\n"
   ]
  }
 ],
 "metadata": {
  "kernelspec": {
   "display_name": "Python 3",
   "language": "python",
   "name": "python3"
  },
  "language_info": {
   "codemirror_mode": {
    "name": "ipython",
    "version": 3
   },
   "file_extension": ".py",
   "mimetype": "text/x-python",
   "name": "python",
   "nbconvert_exporter": "python",
   "pygments_lexer": "ipython3",
   "version": "3.7.2"
  }
 },
 "nbformat": 4,
 "nbformat_minor": 2
}
